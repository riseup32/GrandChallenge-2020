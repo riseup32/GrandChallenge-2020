{
 "cells": [
  {
   "cell_type": "code",
   "execution_count": 1,
   "metadata": {},
   "outputs": [],
   "source": [
    "import os\n",
    "import glob\n",
    "import wave\n",
    "from tqdm import tqdm"
   ]
  },
  {
   "cell_type": "code",
   "execution_count": 2,
   "metadata": {},
   "outputs": [],
   "source": [
    "file_dir = './wav_data/pretrain/KsponSpeech'\n",
    "output_dir = './wav_data/pretrain/KsponSpeech_wav'\n",
    "\n",
    "file_paths = glob.glob(os.path.join(file_dir, '**', '*.pcm'), recursive=True)\n",
    "file_paths = sorted(file_paths)"
   ]
  },
  {
   "cell_type": "code",
   "execution_count": 3,
   "metadata": {},
   "outputs": [],
   "source": [
    "def pcm2wav(pcm_file, output_dir=output_dir, channels=1, bit_depth=16, sampling_rate=16000):\n",
    "    if(bit_depth % 8 != 0):\n",
    "        raise ValueError(\"bit_depth \") + str(bit_depth) + \"must be a multiple of 8.\"\n",
    "       \n",
    "    file_name = pcm_file.split('/')[-1].split('.')[0] + '.wav'\n",
    "    wav_file = os.path.join(output_dir, file_name)\n",
    "    \n",
    "    with open(pcm_file, 'rb') as opened_pcm_file:\n",
    "        pcm_data = opened_pcm_file.read()\n",
    "        \n",
    "        obj2write = wave.open(wav_file, 'wb')\n",
    "        obj2write.setnchannels(channels)\n",
    "        obj2write.setsampwidth(bit_depth // 8)\n",
    "        obj2write.setframerate(sampling_rate)\n",
    "        obj2write.writeframes(pcm_data)\n",
    "        obj2write.close()"
   ]
  },
  {
   "cell_type": "code",
   "execution_count": 4,
   "metadata": {},
   "outputs": [
    {
     "name": "stderr",
     "output_type": "stream",
     "text": [
      "100%|██████████| 10000/10000 [00:09<00:00, 1101.10it/s]\n"
     ]
    }
   ],
   "source": [
    "for file_path in tqdm(file_paths[:10000]):\n",
    "    pcm2wav(file_path)"
   ]
  },
  {
   "cell_type": "code",
   "execution_count": null,
   "metadata": {},
   "outputs": [],
   "source": []
  }
 ],
 "metadata": {
  "kernelspec": {
   "display_name": "mldl",
   "language": "python",
   "name": "mldl"
  },
  "language_info": {
   "codemirror_mode": {
    "name": "ipython",
    "version": 3
   },
   "file_extension": ".py",
   "mimetype": "text/x-python",
   "name": "python",
   "nbconvert_exporter": "python",
   "pygments_lexer": "ipython3",
   "version": "3.7.7"
  }
 },
 "nbformat": 4,
 "nbformat_minor": 4
}
