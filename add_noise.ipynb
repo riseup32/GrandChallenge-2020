{
 "cells": [
  {
   "cell_type": "code",
   "execution_count": 1,
   "metadata": {},
   "outputs": [],
   "source": [
    "import os\n",
    "import glob\n",
    "\n",
    "import librosa\n",
    "import numpy as np\n",
    "from tqdm import tqdm\n",
    "from scipy.io.wavfile import write"
   ]
  },
  {
   "cell_type": "code",
   "execution_count": 2,
   "metadata": {},
   "outputs": [],
   "source": [
    "wav_data_dir = './wav_data/pretrain/wav_train'\n",
    "samples_dir = glob.glob(os.path.join(wav_data_dir, '**', '*.wav'), recursive=True)\n",
    "output_dir = './wav_data/pretrain/sample_noise'"
   ]
  },
  {
   "cell_type": "code",
   "execution_count": 3,
   "metadata": {},
   "outputs": [],
   "source": [
    "def add_noise(sample_dir, output_dir):\n",
    "    y, sr = librosa.load(sample_dir, sr=16000)\n",
    "    noise_amp = 0.05 * np.random.uniform() * np.amax(y)\n",
    "    y_noise = y.astype('float64') + noise_amp * np.random.normal(size=y.shape[0])\n",
    "    filename = sample_dir.split('/')[-1].split('.')[0] + '_noise.wav'\n",
    "    filename = os.path.join(output_dir, filename)\n",
    "    write(filename, sr, y_noise)"
   ]
  },
  {
   "cell_type": "code",
   "execution_count": 4,
   "metadata": {},
   "outputs": [
    {
     "name": "stderr",
     "output_type": "stream",
     "text": [
      "100%|██████████| 614/614 [00:26<00:00, 23.37it/s]\n"
     ]
    }
   ],
   "source": [
    "for sample_dir in tqdm(samples_dir):\n",
    "    add_noise(sample_dir, output_dir)"
   ]
  },
  {
   "cell_type": "code",
   "execution_count": null,
   "metadata": {},
   "outputs": [],
   "source": []
  }
 ],
 "metadata": {
  "kernelspec": {
   "display_name": "mldl",
   "language": "python",
   "name": "mldl"
  },
  "language_info": {
   "codemirror_mode": {
    "name": "ipython",
    "version": 3
   },
   "file_extension": ".py",
   "mimetype": "text/x-python",
   "name": "python",
   "nbconvert_exporter": "python",
   "pygments_lexer": "ipython3",
   "version": "3.7.7"
  }
 },
 "nbformat": 4,
 "nbformat_minor": 4
}
