{
 "cells": [
  {
   "cell_type": "code",
   "execution_count": 1,
   "metadata": {},
   "outputs": [],
   "source": [
    "import os\n",
    "import glob\n",
    "import librosa\n",
    "from tqdm import tqdm\n",
    "from scipy.io.wavfile import write"
   ]
  },
  {
   "cell_type": "code",
   "execution_count": 2,
   "metadata": {},
   "outputs": [],
   "source": [
    "def wav_resample(sample_dir):\n",
    "    y, sr = librosa.load(sample_dir, sr=48000)\n",
    "    y_resample = librosa.resample(y, sr, 16000)\n",
    "    filename = os.path.join(output_dir, sample_dir.split('/')[-1])\n",
    "    write(filename, 16000, y_resample)"
   ]
  },
  {
   "cell_type": "code",
   "execution_count": 3,
   "metadata": {},
   "outputs": [],
   "source": [
    "root_dir = './wav_data/pretrain/IEMOCAP_full_release/'\n",
    "samples_dir = glob.glob(os.path.join(root_dir, '**', 'sentences', '**', '*.wav'), recursive=True)\n",
    "output_dir = './wav_data/pretrain/IEMOCAP_resample'"
   ]
  },
  {
   "cell_type": "code",
   "execution_count": 4,
   "metadata": {},
   "outputs": [
    {
     "name": "stderr",
     "output_type": "stream",
     "text": [
      "100%|██████████| 10039/10039 [1:06:14<00:00,  2.53it/s]\n"
     ]
    }
   ],
   "source": [
    "for sample_dir in tqdm(samples_dir):\n",
    "    wav_resample(sample_dir)"
   ]
  },
  {
   "cell_type": "code",
   "execution_count": null,
   "metadata": {},
   "outputs": [],
   "source": []
  }
 ],
 "metadata": {
  "kernelspec": {
   "display_name": "Python [conda env:mldl]",
   "language": "python",
   "name": "conda-env-mldl-py"
  },
  "language_info": {
   "codemirror_mode": {
    "name": "ipython",
    "version": 3
   },
   "file_extension": ".py",
   "mimetype": "text/x-python",
   "name": "python",
   "nbconvert_exporter": "python",
   "pygments_lexer": "ipython3",
   "version": "3.7.7"
  }
 },
 "nbformat": 4,
 "nbformat_minor": 4
}
