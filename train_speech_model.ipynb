{
 "cells": [
  {
   "cell_type": "code",
   "execution_count": 1,
   "metadata": {},
   "outputs": [],
   "source": [
    "import os\n",
    "import glob\n",
    "import numpy as np\n",
    "import librosa\n",
    "from scipy.io.wavfile import write\n",
    "from preprocessing import preprocessing"
   ]
  },
  {
   "cell_type": "code",
   "execution_count": 2,
   "metadata": {},
   "outputs": [],
   "source": [
    "sample_data_repo = os.path.join('.', 'wav_data')\n",
    "\n",
    "samples_normal = glob.glob(os.path.join(sample_data_repo, 'normal', '**', '*wav'), recursive=True)\n",
    "samples_normal = sorted(samples_normal)\n",
    "\n",
    "samples_violence = glob.glob(os.path.join(sample_data_repo, 'violence', '**', '*wav'), recursive=True)\n",
    "samples_violence = sorted(samples_violence)"
   ]
  },
  {
   "cell_type": "code",
   "execution_count": 3,
   "metadata": {},
   "outputs": [
    {
     "data": {
      "text/plain": [
       "(10, 96)"
      ]
     },
     "execution_count": 3,
     "metadata": {},
     "output_type": "execute_result"
    }
   ],
   "source": [
    "len(samples_normal), len(samples_violence)"
   ]
  },
  {
   "cell_type": "code",
   "execution_count": 4,
   "metadata": {},
   "outputs": [],
   "source": [
    "samples_normal_list = []\n",
    "\n",
    "for data_dir in samples_normal:\n",
    "    y, sr = librosa.load(data_dir)\n",
    "    samples_normal_list.append(y)"
   ]
  },
  {
   "cell_type": "code",
   "execution_count": 5,
   "metadata": {},
   "outputs": [],
   "source": [
    "write('./wav_data/normal/concat/normal.wav', sr, np.concatenate(samples_normal_list))"
   ]
  },
  {
   "cell_type": "code",
   "execution_count": 6,
   "metadata": {},
   "outputs": [],
   "source": [
    "samples_violence_list = []\n",
    "\n",
    "for data_dir in samples_violence:\n",
    "    y, sr = librosa.load(data_dir)\n",
    "    samples_violence_list.append(y)"
   ]
  },
  {
   "cell_type": "code",
   "execution_count": 7,
   "metadata": {},
   "outputs": [],
   "source": [
    "write('./wav_data/violence/concat/violence.wav', sr, np.concatenate(samples_violence_list))"
   ]
  },
  {
   "cell_type": "code",
   "execution_count": 8,
   "metadata": {},
   "outputs": [],
   "source": [
    "samples_normal_concat = glob.glob(os.path.join(sample_data_repo, 'normal', 'concat', '*wav'), recursive=True)\n",
    "samples_violence_concat = glob.glob(os.path.join(sample_data_repo, 'violence', 'concat', '*wav'), recursive=True)"
   ]
  },
  {
   "cell_type": "code",
   "execution_count": 9,
   "metadata": {},
   "outputs": [],
   "source": [
    "concat_normal_tensors = []\n",
    "normal_data_dirs = [samples_normal_concat]\n",
    "\n",
    "for data_dir in normal_data_dirs:\n",
    "    for i in range(len(data_dir)):\n",
    "        concat_tensor = preprocessing(data_dir[i], method='mfcc', sr=22050)\n",
    "        concat_normal_tensors.append(concat_tensor)"
   ]
  },
  {
   "cell_type": "code",
   "execution_count": 10,
   "metadata": {},
   "outputs": [
    {
     "data": {
      "text/plain": [
       "(129, 128, 100, 1)"
      ]
     },
     "execution_count": 10,
     "metadata": {},
     "output_type": "execute_result"
    }
   ],
   "source": [
    "X_normal = np.concatenate(np.array(concat_normal_tensors), axis=0)\n",
    "X_normal.shape"
   ]
  },
  {
   "cell_type": "code",
   "execution_count": 11,
   "metadata": {},
   "outputs": [
    {
     "data": {
      "text/plain": [
       "(129,)"
      ]
     },
     "execution_count": 11,
     "metadata": {},
     "output_type": "execute_result"
    }
   ],
   "source": [
    "y_normal = np.zeros(X_normal.shape[0])\n",
    "y_normal.shape"
   ]
  },
  {
   "cell_type": "code",
   "execution_count": 12,
   "metadata": {},
   "outputs": [],
   "source": [
    "concat_violence_tensors = []\n",
    "violence_data_dirs = [samples_violence_concat]\n",
    "\n",
    "for data_dir in violence_data_dirs:\n",
    "    for i in range(len(data_dir)):\n",
    "        concat_tensor = preprocessing(data_dir[i], method='mfcc', sr=22050)\n",
    "        concat_violence_tensors.append(concat_tensor)"
   ]
  },
  {
   "cell_type": "code",
   "execution_count": 13,
   "metadata": {},
   "outputs": [
    {
     "data": {
      "text/plain": [
       "(1813, 128, 100, 1)"
      ]
     },
     "execution_count": 13,
     "metadata": {},
     "output_type": "execute_result"
    }
   ],
   "source": [
    "X_violence = np.concatenate(np.array(concat_violence_tensors), axis=0)\n",
    "X_violence.shape"
   ]
  },
  {
   "cell_type": "code",
   "execution_count": 14,
   "metadata": {},
   "outputs": [
    {
     "data": {
      "text/plain": [
       "(1813,)"
      ]
     },
     "execution_count": 14,
     "metadata": {},
     "output_type": "execute_result"
    }
   ],
   "source": [
    "y_violence = np.ones(X_violence.shape[0])\n",
    "y_violence.shape"
   ]
  },
  {
   "cell_type": "code",
   "execution_count": 15,
   "metadata": {},
   "outputs": [
    {
     "data": {
      "text/plain": [
       "((1942, 128, 100, 1), (1942,))"
      ]
     },
     "execution_count": 15,
     "metadata": {},
     "output_type": "execute_result"
    }
   ],
   "source": [
    "X = np.concatenate([X_normal, X_violence], axis=0)\n",
    "y = np.concatenate([y_normal, y_violence], axis=0)\n",
    "X.shape, y.shape"
   ]
  },
  {
   "cell_type": "code",
   "execution_count": 16,
   "metadata": {},
   "outputs": [
    {
     "name": "stdout",
     "output_type": "stream",
     "text": [
      "cpu\n"
     ]
    }
   ],
   "source": [
    "import torch\n",
    "import torch.nn as nn\n",
    "import torch.optim as optim\n",
    "import torch.nn.init as init\n",
    "from torch.utils.data import TensorDataset, DataLoader\n",
    "\n",
    "device = torch.device(\"cuda:0\" if torch.cuda.is_available() else \"cpu\")\n",
    "print(device)"
   ]
  },
  {
   "cell_type": "code",
   "execution_count": 17,
   "metadata": {},
   "outputs": [],
   "source": [
    "batch_size = 64\n",
    "lr = 0.001\n",
    "num_epochs = 20"
   ]
  },
  {
   "cell_type": "code",
   "execution_count": 18,
   "metadata": {},
   "outputs": [
    {
     "data": {
      "text/plain": [
       "(torch.Size([1942, 1, 128, 100]), torch.Size([1942, 1]))"
      ]
     },
     "execution_count": 18,
     "metadata": {},
     "output_type": "execute_result"
    }
   ],
   "source": [
    "X = torch.tensor(X, device=device).float()\n",
    "X = X.permute(0, 3, 1, 2)\n",
    "y = torch.tensor(y, device=device).float()\n",
    "y = y.view(-1, 1)\n",
    "\n",
    "X.shape, y.shape"
   ]
  },
  {
   "cell_type": "code",
   "execution_count": 19,
   "metadata": {},
   "outputs": [],
   "source": [
    "train_ds = TensorDataset(X, y)"
   ]
  },
  {
   "cell_type": "code",
   "execution_count": 20,
   "metadata": {},
   "outputs": [],
   "source": [
    "train_dataloader = DataLoader(train_ds, batch_size=batch_size, shuffle=True, num_workers=0, drop_last=True)"
   ]
  },
  {
   "cell_type": "code",
   "execution_count": 21,
   "metadata": {},
   "outputs": [],
   "source": [
    "class Classifier(nn.Module):\n",
    "    def __init__(self):\n",
    "        super(Classifier, self).__init__()\n",
    "        self.conv1 = nn.Sequential(\n",
    "            nn.Conv2d(1, 16, 5, padding=0),\n",
    "            nn.ReLU(),\n",
    "            nn.BatchNorm2d(16),\n",
    "            nn.Conv2d(16, 16, 5, padding=0),\n",
    "            nn.ReLU(),\n",
    "            nn.BatchNorm2d(16),\n",
    "            nn.MaxPool2d(2, 2)\n",
    "        )\n",
    "        self.conv2 = nn.Sequential(\n",
    "            nn.Conv2d(16, 32, 5, padding=0),\n",
    "            nn.ReLU(),\n",
    "            nn.BatchNorm2d(32),\n",
    "            nn.Conv2d(32, 32, 5, padding=0),\n",
    "            nn.ReLU(),\n",
    "            nn.BatchNorm2d(32),\n",
    "            nn.MaxPool2d(2, 2)\n",
    "        )\n",
    "        self.conv3 = nn.Sequential(\n",
    "            nn.Conv2d(32, 64, (5, 4), padding=0),\n",
    "            nn.ReLU(),\n",
    "            nn.BatchNorm2d(64),\n",
    "            nn.MaxPool2d(2, 2),\n",
    "            nn.Conv2d(64, 64, 3, padding=1),\n",
    "            nn.ReLU()\n",
    "        )\n",
    "        self.fc = nn.Sequential(\n",
    "            nn.Linear(5632, 256),\n",
    "            nn.ReLU(),\n",
    "            nn.Linear(256, 1),\n",
    "            nn.Sigmoid()\n",
    "        )\n",
    "        \n",
    "    def forward(self, x):\n",
    "        out = self.conv1(x)\n",
    "        out = self.conv2(out)\n",
    "        out = self.conv3(out)\n",
    "        out = out.reshape(x.shape[0], -1)\n",
    "        out = self.fc(out)\n",
    "        return out"
   ]
  },
  {
   "cell_type": "code",
   "execution_count": 22,
   "metadata": {},
   "outputs": [],
   "source": [
    "model = Classifier().to(device)"
   ]
  },
  {
   "cell_type": "code",
   "execution_count": 23,
   "metadata": {},
   "outputs": [],
   "source": [
    "loss_func = nn.BCELoss()\n",
    "optimizer = optim.Adam(model.parameters())"
   ]
  },
  {
   "cell_type": "code",
   "execution_count": 24,
   "metadata": {},
   "outputs": [],
   "source": [
    "def train(dataloader, epochs):\n",
    "    for epoch in range(epochs):\n",
    "        for x_batch, y_batch in dataloader:\n",
    "            optimizer.zero_grad()\n",
    "            \n",
    "            outputs = model(x_batch)\n",
    "            \n",
    "            loss = loss_func(outputs, y_batch)\n",
    "            loss.backward()\n",
    "            \n",
    "            optimizer.step()\n",
    "            \n",
    "        for param_group in optimizer.param_groups:\n",
    "            lr = param_group['lr']\n",
    "        print('epoch: {:3d},    lr={:6f},    loss={:5f}'.format(epoch+1, lr, loss.item()))"
   ]
  },
  {
   "cell_type": "code",
   "execution_count": 25,
   "metadata": {},
   "outputs": [
    {
     "name": "stdout",
     "output_type": "stream",
     "text": [
      "epoch:   1,    lr=0.001000,    loss=0.142352\n",
      "epoch:   2,    lr=0.001000,    loss=0.090885\n",
      "epoch:   3,    lr=0.001000,    loss=0.014078\n",
      "epoch:   4,    lr=0.001000,    loss=0.011287\n",
      "epoch:   5,    lr=0.001000,    loss=0.012549\n",
      "epoch:   6,    lr=0.001000,    loss=0.000733\n",
      "epoch:   7,    lr=0.001000,    loss=0.000307\n",
      "epoch:   8,    lr=0.001000,    loss=0.005690\n",
      "epoch:   9,    lr=0.001000,    loss=0.000058\n",
      "epoch:  10,    lr=0.001000,    loss=0.000769\n",
      "epoch:  11,    lr=0.001000,    loss=0.022446\n",
      "epoch:  12,    lr=0.001000,    loss=0.000124\n",
      "epoch:  13,    lr=0.001000,    loss=0.009645\n",
      "epoch:  14,    lr=0.001000,    loss=0.000664\n",
      "epoch:  15,    lr=0.001000,    loss=0.000423\n",
      "epoch:  16,    lr=0.001000,    loss=0.000019\n",
      "epoch:  17,    lr=0.001000,    loss=0.000938\n",
      "epoch:  18,    lr=0.001000,    loss=0.000087\n",
      "epoch:  19,    lr=0.001000,    loss=0.000883\n",
      "epoch:  20,    lr=0.001000,    loss=0.000573\n"
     ]
    }
   ],
   "source": [
    "train(train_dataloader, num_epochs)"
   ]
  },
  {
   "cell_type": "code",
   "execution_count": 26,
   "metadata": {},
   "outputs": [],
   "source": [
    "torch.save(model.state_dict(), './output/m_speech.pt')"
   ]
  },
  {
   "cell_type": "code",
   "execution_count": null,
   "metadata": {},
   "outputs": [],
   "source": []
  }
 ],
 "metadata": {
  "kernelspec": {
   "display_name": "Python [conda env:mldl]",
   "language": "python",
   "name": "conda-env-mldl-py"
  },
  "language_info": {
   "codemirror_mode": {
    "name": "ipython",
    "version": 3
   },
   "file_extension": ".py",
   "mimetype": "text/x-python",
   "name": "python",
   "nbconvert_exporter": "python",
   "pygments_lexer": "ipython3",
   "version": "3.7.7"
  }
 },
 "nbformat": 4,
 "nbformat_minor": 4
}
